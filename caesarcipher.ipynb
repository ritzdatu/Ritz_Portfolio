{
 "cells": [
  {
   "cell_type": "code",
   "execution_count": 12,
   "metadata": {
    "scrolled": true
   },
   "outputs": [
    {
     "data": {
      "text/plain": [
       "'Rfgq gq rmm cyqw!'"
      ]
     },
     "execution_count": 12,
     "metadata": {},
     "output_type": "execute_result"
    }
   ],
   "source": [
    "import string\n",
    "import collections\n",
    "\n",
    "def caesar(rotate_string, number_to_rotate_by):\n",
    "    \n",
    "    upper = collections.deque(string.ascii_uppercase)\n",
    "    lower = collections.deque(string.ascii_lowercase)\n",
    "    \n",
    "    upper.rotate(number_to_rotate_by)\n",
    "    lower.rotate(number_to_rotate_by)\n",
    "\n",
    "    upper = ''.join(list(upper))\n",
    "    lower = ''.join(list(lower))\n",
    "\n",
    "#    print(upper, lower)\n",
    "#    caesar('',0)\n",
    "    return rotate_string.translate(str.maketrans(string.ascii_uppercase, upper)).translate(str.maketrans(string.ascii_lowercase, lower))\n",
    "\n",
    "#    caesar(\"This is too easy!,0\")\n",
    "\n",
    "our_string = \"This is too easy!\"\n",
    "\n",
    "for i in range(len(string.ascii_uppercase)):\n",
    "    print (i, \"|\", caesar(our_string,i))"
   ]
  },
  {
   "cell_type": "code",
   "execution_count": null,
   "metadata": {},
   "outputs": [],
   "source": []
  }
 ],
 "metadata": {
  "kernelspec": {
   "display_name": "Python 3",
   "language": "python",
   "name": "python3"
  },
  "language_info": {
   "codemirror_mode": {
    "name": "ipython",
    "version": 3
   },
   "file_extension": ".py",
   "mimetype": "text/x-python",
   "name": "python",
   "nbconvert_exporter": "python",
   "pygments_lexer": "ipython3",
   "version": "3.8.3"
  }
 },
 "nbformat": 4,
 "nbformat_minor": 4
}
